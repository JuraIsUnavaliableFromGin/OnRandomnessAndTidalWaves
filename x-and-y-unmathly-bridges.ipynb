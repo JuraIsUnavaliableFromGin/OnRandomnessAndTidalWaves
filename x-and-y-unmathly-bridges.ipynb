{
 "cells": [
  {
   "cell_type": "code",
   "execution_count": 2,
   "id": "dd9bb717",
   "metadata": {},
   "outputs": [],
   "source": [
    "import seaborn as sns"
   ]
  },
  {
   "cell_type": "code",
   "execution_count": 3,
   "id": "1863862b",
   "metadata": {},
   "outputs": [],
   "source": [
    "import numpy as np"
   ]
  },
  {
   "cell_type": "code",
   "execution_count": 4,
   "id": "615f1e15",
   "metadata": {},
   "outputs": [],
   "source": [
    "import matplotlib.pyplot as plt"
   ]
  },
  {
   "cell_type": "code",
   "execution_count": 26,
   "id": "3268ef5d",
   "metadata": {},
   "outputs": [],
   "source": [
    "# 10 = 1000000 | 100000\n",
    "# 100 = 10000000 | 1000000\n",
    "# 1000 = 100000000 | 10000000\n",
    "# 10000 = 1000000000 | 100000000"
   ]
  },
  {
   "cell_type": "code",
   "execution_count": 33,
   "id": "65d53a92",
   "metadata": {},
   "outputs": [
    {
     "data": {
      "text/plain": [
       "(array([ 90,  91,  92,  93,  94,  95,  96,  97,  98,  99, 100]),\n",
       " array([100, 101, 102, 103, 104, 105, 106, 107, 108, 109, 110]))"
      ]
     },
     "execution_count": 33,
     "metadata": {},
     "output_type": "execute_result"
    }
   ],
   "source": [
    "gap_s_1 = np.arange(10,21,1)\n",
    "gap_s_2 = np.arange(20,31,1)\n",
    "gap_s_3 = np.arange(30,41,1)\n",
    "gap_s_4 = np.arange(40,51,1)\n",
    "gap_s_5 = np.arange(50,61,1)\n",
    "gap_s_6 = np.arange(60,71,1)\n",
    "gap_s_7 = np.arange(70,81,1)\n",
    "gap_s_8 = np.arange(80,91,1)\n",
    "gap_s_9 = np.arange(90,101,1)\n",
    "gap_s_10 = np.arange(100,111,1)\n",
    "(gap_s_9,gap_s_10)"
   ]
  },
  {
   "cell_type": "code",
   "execution_count": 34,
   "id": "53aefd63",
   "metadata": {},
   "outputs": [
    {
     "data": {
      "text/plain": [
       "(array([ 900,  910,  920,  930,  940,  950,  960,  970,  980,  990, 1000]),\n",
       " array([1000, 1010, 1020, 1030, 1040, 1050, 1060, 1070, 1080, 1090, 1100]))"
      ]
     },
     "execution_count": 34,
     "metadata": {},
     "output_type": "execute_result"
    }
   ],
   "source": [
    "gap_k_1 = np.arange(100,210,10)\n",
    "gap_k_2 = np.arange(200,310,10)\n",
    "gap_k_3 = np.arange(300,410,10)\n",
    "gap_k_4 = np.arange(400,510,10)\n",
    "gap_k_5 = np.arange(500,610,10)\n",
    "gap_k_6 = np.arange(600,710,10)\n",
    "gap_k_7 = np.arange(700,810,10)\n",
    "gap_k_8 = np.arange(800,910,10)\n",
    "gap_k_9 = np.arange(900,1010,10)\n",
    "gap_k_10 = np.arange(1000,1110,10)\n",
    "(gap_k_9,gap_k_10)"
   ]
  },
  {
   "cell_type": "code",
   "execution_count": 47,
   "id": "c2eed7fb",
   "metadata": {},
   "outputs": [],
   "source": [
    "def rate(arr_s,arr_k):\n",
    "    arr_r = []\n",
    "    for s in range(len(arr_k)):\n",
    "        for k in range(len(arr_s)):\n",
    "            val_d = arr_k[s]-arr_s[k]\n",
    "            val_r = val_d/arr_s[k]\n",
    "            arr_r.append([arr_s[k],arr_k[s],val_r])\n",
    "    return sorted(arr_r)"
   ]
  },
  {
   "cell_type": "code",
   "execution_count": 48,
   "id": "0683bdad",
   "metadata": {},
   "outputs": [
    {
     "name": "stdout",
     "output_type": "stream",
     "text": [
      "[[10, 100, 9.0], [10, 110, 10.0], [10, 120, 11.0], [10, 130, 12.0], [10, 140, 13.0], [10, 150, 14.0], [10, 160, 15.0], [10, 170, 16.0], [10, 180, 17.0], [10, 190, 18.0], [10, 200, 19.0], [11, 100, 8.090909090909092], [11, 110, 9.0], [11, 120, 9.909090909090908], [11, 130, 10.818181818181818], [11, 140, 11.727272727272727], [11, 150, 12.636363636363637], [11, 160, 13.545454545454545], [11, 170, 14.454545454545455], [11, 180, 15.363636363636363], [11, 190, 16.272727272727273], [11, 200, 17.181818181818183], [12, 100, 7.333333333333333], [12, 110, 8.166666666666666], [12, 120, 9.0], [12, 130, 9.833333333333334], [12, 140, 10.666666666666666], [12, 150, 11.5], [12, 160, 12.333333333333334], [12, 170, 13.166666666666666], [12, 180, 14.0], [12, 190, 14.833333333333334], [12, 200, 15.666666666666666], [13, 100, 6.6923076923076925], [13, 110, 7.461538461538462], [13, 120, 8.23076923076923], [13, 130, 9.0], [13, 140, 9.76923076923077], [13, 150, 10.538461538461538], [13, 160, 11.307692307692308], [13, 170, 12.076923076923077], [13, 180, 12.846153846153847], [13, 190, 13.615384615384615], [13, 200, 14.384615384615385], [14, 100, 6.142857142857143], [14, 110, 6.857142857142857], [14, 120, 7.571428571428571], [14, 130, 8.285714285714286], [14, 140, 9.0], [14, 150, 9.714285714285714], [14, 160, 10.428571428571429], [14, 170, 11.142857142857142], [14, 180, 11.857142857142858], [14, 190, 12.571428571428571], [14, 200, 13.285714285714286], [15, 100, 5.666666666666667], [15, 110, 6.333333333333333], [15, 120, 7.0], [15, 130, 7.666666666666667], [15, 140, 8.333333333333334], [15, 150, 9.0], [15, 160, 9.666666666666666], [15, 170, 10.333333333333334], [15, 180, 11.0], [15, 190, 11.666666666666666], [15, 200, 12.333333333333334], [16, 100, 5.25], [16, 110, 5.875], [16, 120, 6.5], [16, 130, 7.125], [16, 140, 7.75], [16, 150, 8.375], [16, 160, 9.0], [16, 170, 9.625], [16, 180, 10.25], [16, 190, 10.875], [16, 200, 11.5], [17, 100, 4.882352941176471], [17, 110, 5.470588235294118], [17, 120, 6.0588235294117645], [17, 130, 6.647058823529412], [17, 140, 7.235294117647059], [17, 150, 7.823529411764706], [17, 160, 8.411764705882353], [17, 170, 9.0], [17, 180, 9.588235294117647], [17, 190, 10.176470588235293], [17, 200, 10.764705882352942], [18, 100, 4.555555555555555], [18, 110, 5.111111111111111], [18, 120, 5.666666666666667], [18, 130, 6.222222222222222], [18, 140, 6.777777777777778], [18, 150, 7.333333333333333], [18, 160, 7.888888888888889], [18, 170, 8.444444444444445], [18, 180, 9.0], [18, 190, 9.555555555555555], [18, 200, 10.11111111111111], [19, 100, 4.2631578947368425], [19, 110, 4.7894736842105265], [19, 120, 5.315789473684211], [19, 130, 5.842105263157895], [19, 140, 6.368421052631579], [19, 150, 6.894736842105263], [19, 160, 7.421052631578948], [19, 170, 7.947368421052632], [19, 180, 8.473684210526315], [19, 190, 9.0], [19, 200, 9.526315789473685], [20, 100, 4.0], [20, 110, 4.5], [20, 120, 5.0], [20, 130, 5.5], [20, 140, 6.0], [20, 150, 6.5], [20, 160, 7.0], [20, 170, 7.5], [20, 180, 8.0], [20, 190, 8.5], [20, 200, 9.0]]\n"
     ]
    }
   ],
   "source": [
    "print(rate(gap_s_1,gap_k_1))"
   ]
  },
  {
   "cell_type": "code",
   "execution_count": null,
   "id": "a927cc09",
   "metadata": {},
   "outputs": [],
   "source": []
  },
  {
   "cell_type": "code",
   "execution_count": null,
   "id": "0ab312c4",
   "metadata": {},
   "outputs": [],
   "source": []
  },
  {
   "cell_type": "code",
   "execution_count": null,
   "id": "e1965b44",
   "metadata": {},
   "outputs": [],
   "source": []
  },
  {
   "cell_type": "code",
   "execution_count": null,
   "id": "0d30a80c",
   "metadata": {},
   "outputs": [],
   "source": []
  },
  {
   "cell_type": "code",
   "execution_count": null,
   "id": "73c08da6",
   "metadata": {},
   "outputs": [],
   "source": []
  },
  {
   "cell_type": "code",
   "execution_count": null,
   "id": "b6cd31b7",
   "metadata": {},
   "outputs": [],
   "source": []
  },
  {
   "cell_type": "code",
   "execution_count": null,
   "id": "8b2e52b6",
   "metadata": {},
   "outputs": [],
   "source": []
  },
  {
   "cell_type": "code",
   "execution_count": null,
   "id": "17ac260a",
   "metadata": {},
   "outputs": [],
   "source": []
  },
  {
   "cell_type": "code",
   "execution_count": null,
   "id": "edb8d6c0",
   "metadata": {},
   "outputs": [],
   "source": []
  },
  {
   "cell_type": "code",
   "execution_count": null,
   "id": "06562f82",
   "metadata": {},
   "outputs": [],
   "source": []
  },
  {
   "cell_type": "code",
   "execution_count": null,
   "id": "832a21fe",
   "metadata": {},
   "outputs": [],
   "source": []
  },
  {
   "cell_type": "code",
   "execution_count": null,
   "id": "e42a69b0",
   "metadata": {},
   "outputs": [],
   "source": []
  },
  {
   "cell_type": "code",
   "execution_count": null,
   "id": "46eeddca",
   "metadata": {},
   "outputs": [],
   "source": []
  },
  {
   "cell_type": "code",
   "execution_count": null,
   "id": "8c15ce4e",
   "metadata": {},
   "outputs": [],
   "source": []
  },
  {
   "cell_type": "code",
   "execution_count": null,
   "id": "0f99be3f",
   "metadata": {},
   "outputs": [],
   "source": []
  },
  {
   "cell_type": "code",
   "execution_count": null,
   "id": "ca0aaf52",
   "metadata": {},
   "outputs": [],
   "source": []
  }
 ],
 "metadata": {
  "kernelspec": {
   "display_name": "Python 3 (ipykernel)",
   "language": "python",
   "name": "python3"
  },
  "language_info": {
   "codemirror_mode": {
    "name": "ipython",
    "version": 3
   },
   "file_extension": ".py",
   "mimetype": "text/x-python",
   "name": "python",
   "nbconvert_exporter": "python",
   "pygments_lexer": "ipython3",
   "version": "3.10.9"
  }
 },
 "nbformat": 4,
 "nbformat_minor": 5
}
