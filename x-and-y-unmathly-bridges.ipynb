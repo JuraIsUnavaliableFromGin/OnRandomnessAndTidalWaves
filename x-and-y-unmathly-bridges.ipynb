{
 "cells": [
  {
   "cell_type": "code",
   "execution_count": 2,
   "id": "dd9bb717",
   "metadata": {},
   "outputs": [],
   "source": [
    "import seaborn as sns"
   ]
  },
  {
   "cell_type": "code",
   "execution_count": 3,
   "id": "1863862b",
   "metadata": {},
   "outputs": [],
   "source": [
    "import numpy as np"
   ]
  },
  {
   "cell_type": "code",
   "execution_count": 4,
   "id": "615f1e15",
   "metadata": {},
   "outputs": [],
   "source": [
    "import matplotlib.pyplot as plt"
   ]
  },
  {
   "cell_type": "code",
   "execution_count": 88,
   "id": "a9251343",
   "metadata": {},
   "outputs": [],
   "source": [
    "def gen_s():\n",
    "    s = []\n",
    "    for i in range(10,990,10):\n",
    "        s.append(np.arange(i,i+11,1))\n",
    "    return s\n",
    "s = gen_s()"
   ]
  },
  {
   "cell_type": "code",
   "execution_count": 89,
   "id": "42caada5",
   "metadata": {},
   "outputs": [],
   "source": [
    "def gen_k():\n",
    "    k = []\n",
    "    for i in range(100,9900,100):\n",
    "        k.append(np.arange(i,i+110,10))\n",
    "    return k\n",
    "k = gen_k()"
   ]
  },
  {
   "cell_type": "code",
   "execution_count": 49,
   "id": "c2eed7fb",
   "metadata": {},
   "outputs": [],
   "source": [
    "def rate(arr_s,arr_k):\n",
    "    arr_r = []\n",
    "    for s in range(len(arr_k)):\n",
    "        for k in range(len(arr_s)):\n",
    "            val_d = arr_k[s]-arr_s[k]\n",
    "            val_r = round(val_d/arr_s[k],3)\n",
    "            arr_r.append([arr_s[k],arr_k[s],val_r])\n",
    "    return sorted(arr_r)"
   ]
  },
  {
   "cell_type": "code",
   "execution_count": 90,
   "id": "0683bdad",
   "metadata": {},
   "outputs": [
    {
     "name": "stdout",
     "output_type": "stream",
     "text": [
      "[[10, 100, 9.0], [10, 110, 10.0], [10, 120, 11.0], [10, 130, 12.0], [10, 140, 13.0], [10, 150, 14.0], [10, 160, 15.0], [10, 170, 16.0], [10, 180, 17.0], [10, 190, 18.0], [10, 200, 19.0], [11, 100, 8.091], [11, 110, 9.0], [11, 120, 9.909], [11, 130, 10.818], [11, 140, 11.727], [11, 150, 12.636], [11, 160, 13.545], [11, 170, 14.455], [11, 180, 15.364], [11, 190, 16.273], [11, 200, 17.182], [12, 100, 7.333], [12, 110, 8.167], [12, 120, 9.0], [12, 130, 9.833], [12, 140, 10.667], [12, 150, 11.5], [12, 160, 12.333], [12, 170, 13.167], [12, 180, 14.0], [12, 190, 14.833], [12, 200, 15.667], [13, 100, 6.692], [13, 110, 7.462], [13, 120, 8.231], [13, 130, 9.0], [13, 140, 9.769], [13, 150, 10.538], [13, 160, 11.308], [13, 170, 12.077], [13, 180, 12.846], [13, 190, 13.615], [13, 200, 14.385], [14, 100, 6.143], [14, 110, 6.857], [14, 120, 7.571], [14, 130, 8.286], [14, 140, 9.0], [14, 150, 9.714], [14, 160, 10.429], [14, 170, 11.143], [14, 180, 11.857], [14, 190, 12.571], [14, 200, 13.286], [15, 100, 5.667], [15, 110, 6.333], [15, 120, 7.0], [15, 130, 7.667], [15, 140, 8.333], [15, 150, 9.0], [15, 160, 9.667], [15, 170, 10.333], [15, 180, 11.0], [15, 190, 11.667], [15, 200, 12.333], [16, 100, 5.25], [16, 110, 5.875], [16, 120, 6.5], [16, 130, 7.125], [16, 140, 7.75], [16, 150, 8.375], [16, 160, 9.0], [16, 170, 9.625], [16, 180, 10.25], [16, 190, 10.875], [16, 200, 11.5], [17, 100, 4.882], [17, 110, 5.471], [17, 120, 6.059], [17, 130, 6.647], [17, 140, 7.235], [17, 150, 7.824], [17, 160, 8.412], [17, 170, 9.0], [17, 180, 9.588], [17, 190, 10.176], [17, 200, 10.765], [18, 100, 4.556], [18, 110, 5.111], [18, 120, 5.667], [18, 130, 6.222], [18, 140, 6.778], [18, 150, 7.333], [18, 160, 7.889], [18, 170, 8.444], [18, 180, 9.0], [18, 190, 9.556], [18, 200, 10.111], [19, 100, 4.263], [19, 110, 4.789], [19, 120, 5.316], [19, 130, 5.842], [19, 140, 6.368], [19, 150, 6.895], [19, 160, 7.421], [19, 170, 7.947], [19, 180, 8.474], [19, 190, 9.0], [19, 200, 9.526], [20, 100, 4.0], [20, 110, 4.5], [20, 120, 5.0], [20, 130, 5.5], [20, 140, 6.0], [20, 150, 6.5], [20, 160, 7.0], [20, 170, 7.5], [20, 180, 8.0], [20, 190, 8.5], [20, 200, 9.0]]\n"
     ]
    }
   ],
   "source": [
    "print(rate(s[0],k[0]))"
   ]
  },
  {
   "cell_type": "code",
   "execution_count": null,
   "id": "a927cc09",
   "metadata": {},
   "outputs": [],
   "source": []
  },
  {
   "cell_type": "code",
   "execution_count": null,
   "id": "0ab312c4",
   "metadata": {},
   "outputs": [],
   "source": []
  },
  {
   "cell_type": "code",
   "execution_count": null,
   "id": "e1965b44",
   "metadata": {},
   "outputs": [],
   "source": []
  },
  {
   "cell_type": "code",
   "execution_count": null,
   "id": "0d30a80c",
   "metadata": {},
   "outputs": [],
   "source": []
  },
  {
   "cell_type": "code",
   "execution_count": null,
   "id": "73c08da6",
   "metadata": {},
   "outputs": [],
   "source": []
  },
  {
   "cell_type": "code",
   "execution_count": null,
   "id": "b6cd31b7",
   "metadata": {},
   "outputs": [],
   "source": []
  },
  {
   "cell_type": "code",
   "execution_count": null,
   "id": "8b2e52b6",
   "metadata": {},
   "outputs": [],
   "source": []
  },
  {
   "cell_type": "code",
   "execution_count": null,
   "id": "17ac260a",
   "metadata": {},
   "outputs": [],
   "source": []
  },
  {
   "cell_type": "code",
   "execution_count": null,
   "id": "edb8d6c0",
   "metadata": {},
   "outputs": [],
   "source": []
  },
  {
   "cell_type": "code",
   "execution_count": null,
   "id": "06562f82",
   "metadata": {},
   "outputs": [],
   "source": []
  },
  {
   "cell_type": "code",
   "execution_count": null,
   "id": "832a21fe",
   "metadata": {},
   "outputs": [],
   "source": []
  },
  {
   "cell_type": "code",
   "execution_count": null,
   "id": "e42a69b0",
   "metadata": {},
   "outputs": [],
   "source": []
  },
  {
   "cell_type": "code",
   "execution_count": null,
   "id": "46eeddca",
   "metadata": {},
   "outputs": [],
   "source": []
  },
  {
   "cell_type": "code",
   "execution_count": null,
   "id": "8c15ce4e",
   "metadata": {},
   "outputs": [],
   "source": []
  },
  {
   "cell_type": "code",
   "execution_count": null,
   "id": "0f99be3f",
   "metadata": {},
   "outputs": [],
   "source": []
  },
  {
   "cell_type": "code",
   "execution_count": null,
   "id": "ca0aaf52",
   "metadata": {},
   "outputs": [],
   "source": []
  }
 ],
 "metadata": {
  "kernelspec": {
   "display_name": "Python 3 (ipykernel)",
   "language": "python",
   "name": "python3"
  },
  "language_info": {
   "codemirror_mode": {
    "name": "ipython",
    "version": 3
   },
   "file_extension": ".py",
   "mimetype": "text/x-python",
   "name": "python",
   "nbconvert_exporter": "python",
   "pygments_lexer": "ipython3",
   "version": "3.10.9"
  }
 },
 "nbformat": 4,
 "nbformat_minor": 5
}
