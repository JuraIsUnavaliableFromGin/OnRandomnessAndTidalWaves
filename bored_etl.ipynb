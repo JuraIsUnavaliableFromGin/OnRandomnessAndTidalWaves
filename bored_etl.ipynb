{
  "cells": [
    {
      "cell_type": "code",
      "execution_count": 2,
      "metadata": {
        "id": "GMaDo9kC42mX"
      },
      "outputs": [],
      "source": [
        "import sys\n",
        "import seaborn as sns\n",
        "import numpy as np\n",
        "import matplotlib as mpl\n",
        "import pandas as pd\n",
        "import matplotlib.pyplot as plt\n",
        "import time"
      ]
    },
    {
      "cell_type": "code",
      "execution_count": 3,
      "metadata": {
        "id": "WvmG8rG15hIM"
      },
      "outputs": [],
      "source": [
        "pd.set_option('display.max_rows', 10000000000)\n",
        "pd.set_option('display.max_columns', 100)\n",
        "pd.set_option('display.width', 10)\n",
        "np.set_printoptions(threshold=sys.maxsize)\n",
        "sns.set_theme(style=\"darkgrid\")"
      ]
    },
    {
      "cell_type": "code",
      "execution_count": 70,
      "metadata": {
        "id": "Cd6y0WVv5_g1"
      },
      "outputs": [],
      "source": [
        "class plotfuncs():\n",
        "\n",
        "  def __init__(self):\n",
        "    self.x_data = \"s\"\n",
        "    self.y_data = \"k\"\n",
        "    self.rating = \"r\"\n",
        "    self.level = \"level\"\n",
        "    self.action = \"action\"\n",
        "    \n",
        "  def lineplot(self,data,xsize,ysize):\n",
        "    f, ax = plt.subplots(figsize=(xsize, ysize))\n",
        "    sns.lineplot(x=self.x_data, y=self.y_data,\n",
        "                hue=self.level, style=self.action,\n",
        "                data=data)\n",
        "\n",
        "  def boxplot(self,data,xsize,ysize):\n",
        "    f, ax = plt.subplots(figsize=(xsize, ysize))\n",
        "    ax.set_xscale(\"log\")\n",
        "    sns.boxplot(x=self.rating, y=self.level, data=data,\n",
        "                whis=[0, 100], width=.6, palette=\"vlag\")\n",
        "\n",
        "    sns.stripplot(x=self.rating, y=self.level, data=data,\n",
        "                  size=4, color=\".3\", linewidth=0)\n",
        "\n",
        "    ax.xaxis.grid(True)\n",
        "    ax.set(ylabel=\"\")\n",
        "    sns.despine(trim=True, left=True)\n",
        "\n",
        "plotfunctions = plotfuncs()"
      ]
    },
    {
      "cell_type": "code",
      "execution_count": 8,
      "metadata": {
        "id": "KjdjItgkXfmK"
      },
      "outputs": [],
      "source": [
        "df = pd.read_csv(\"toobig.csv\").iloc[:,1:]"
      ]
    },
    {
      "cell_type": "code",
      "execution_count": 9,
      "metadata": {
        "id": "ScqNKdgvD38s"
      },
      "outputs": [],
      "source": [
        "def eachSec(num):\n",
        "  return len(df[df['r']>=num][df['r']<num+1])"
      ]
    },
    {
      "cell_type": "code",
      "execution_count": 10,
      "metadata": {
        "colab": {
          "base_uri": "https://localhost:8080/"
        },
        "id": "sOHFTQBZltru",
        "outputId": "cdaf8294-584c-4569-87c2-91311eb8a95a"
      },
      "outputs": [
        {
          "output_type": "stream",
          "name": "stderr",
          "text": [
            "<ipython-input-9-03dd9a0469ee>:5: UserWarning: Boolean Series key will be reindexed to match DataFrame index.\n",
            "  return len(df[df['r']>=num][df['r']<num+1])\n"
          ]
        }
      ],
      "source": [
        "w = np.arange(1.0,2999.0,1.0)\n",
        "er = []\n",
        "for i in w:\n",
        "  a = eachSec(i)\n",
        "  er.append([i,a])"
      ]
    },
    {
      "cell_type": "code",
      "execution_count": 22,
      "metadata": {
        "id": "QUrF3OcXqdsA"
      },
      "outputs": [],
      "source": [
        "countDF = pd.DataFrame(er,columns=['r_interval','count'])"
      ]
    },
    {
      "cell_type": "code",
      "source": [
        "countDF.head(10)"
      ],
      "metadata": {
        "colab": {
          "base_uri": "https://localhost:8080/",
          "height": 363
        },
        "id": "jYlcF7bqiNrg",
        "outputId": "05b28230-f4b4-4c36-ca1d-40ea148bb524"
      },
      "execution_count": 76,
      "outputs": [
        {
          "output_type": "execute_result",
          "data": {
            "text/plain": [
              "   r_interval  \\\n",
              "0         1.0   \n",
              "1         2.0   \n",
              "2         3.0   \n",
              "3         4.0   \n",
              "4         5.0   \n",
              "5         6.0   \n",
              "6         7.0   \n",
              "7         8.0   \n",
              "8         9.0   \n",
              "9        10.0   \n",
              "\n",
              "    count  \n",
              "0  498667  \n",
              "1  499083  \n",
              "2  499250  \n",
              "3  499334  \n",
              "4  499381  \n",
              "5  499411  \n",
              "6  499430  \n",
              "7  499444  \n",
              "8  499455  \n",
              "9  499455  "
            ],
            "text/html": [
              "\n",
              "  <div id=\"df-ef1a8755-d06c-421b-965f-9ab961913026\">\n",
              "    <div class=\"colab-df-container\">\n",
              "      <div>\n",
              "<style scoped>\n",
              "    .dataframe tbody tr th:only-of-type {\n",
              "        vertical-align: middle;\n",
              "    }\n",
              "\n",
              "    .dataframe tbody tr th {\n",
              "        vertical-align: top;\n",
              "    }\n",
              "\n",
              "    .dataframe thead th {\n",
              "        text-align: right;\n",
              "    }\n",
              "</style>\n",
              "<table border=\"1\" class=\"dataframe\">\n",
              "  <thead>\n",
              "    <tr style=\"text-align: right;\">\n",
              "      <th></th>\n",
              "      <th>r_interval</th>\n",
              "      <th>count</th>\n",
              "    </tr>\n",
              "  </thead>\n",
              "  <tbody>\n",
              "    <tr>\n",
              "      <th>0</th>\n",
              "      <td>1.0</td>\n",
              "      <td>498667</td>\n",
              "    </tr>\n",
              "    <tr>\n",
              "      <th>1</th>\n",
              "      <td>2.0</td>\n",
              "      <td>499083</td>\n",
              "    </tr>\n",
              "    <tr>\n",
              "      <th>2</th>\n",
              "      <td>3.0</td>\n",
              "      <td>499250</td>\n",
              "    </tr>\n",
              "    <tr>\n",
              "      <th>3</th>\n",
              "      <td>4.0</td>\n",
              "      <td>499334</td>\n",
              "    </tr>\n",
              "    <tr>\n",
              "      <th>4</th>\n",
              "      <td>5.0</td>\n",
              "      <td>499381</td>\n",
              "    </tr>\n",
              "    <tr>\n",
              "      <th>5</th>\n",
              "      <td>6.0</td>\n",
              "      <td>499411</td>\n",
              "    </tr>\n",
              "    <tr>\n",
              "      <th>6</th>\n",
              "      <td>7.0</td>\n",
              "      <td>499430</td>\n",
              "    </tr>\n",
              "    <tr>\n",
              "      <th>7</th>\n",
              "      <td>8.0</td>\n",
              "      <td>499444</td>\n",
              "    </tr>\n",
              "    <tr>\n",
              "      <th>8</th>\n",
              "      <td>9.0</td>\n",
              "      <td>499455</td>\n",
              "    </tr>\n",
              "    <tr>\n",
              "      <th>9</th>\n",
              "      <td>10.0</td>\n",
              "      <td>499455</td>\n",
              "    </tr>\n",
              "  </tbody>\n",
              "</table>\n",
              "</div>\n",
              "      <button class=\"colab-df-convert\" onclick=\"convertToInteractive('df-ef1a8755-d06c-421b-965f-9ab961913026')\"\n",
              "              title=\"Convert this dataframe to an interactive table.\"\n",
              "              style=\"display:none;\">\n",
              "        \n",
              "  <svg xmlns=\"http://www.w3.org/2000/svg\" height=\"24px\"viewBox=\"0 0 24 24\"\n",
              "       width=\"24px\">\n",
              "    <path d=\"M0 0h24v24H0V0z\" fill=\"none\"/>\n",
              "    <path d=\"M18.56 5.44l.94 2.06.94-2.06 2.06-.94-2.06-.94-.94-2.06-.94 2.06-2.06.94zm-11 1L8.5 8.5l.94-2.06 2.06-.94-2.06-.94L8.5 2.5l-.94 2.06-2.06.94zm10 10l.94 2.06.94-2.06 2.06-.94-2.06-.94-.94-2.06-.94 2.06-2.06.94z\"/><path d=\"M17.41 7.96l-1.37-1.37c-.4-.4-.92-.59-1.43-.59-.52 0-1.04.2-1.43.59L10.3 9.45l-7.72 7.72c-.78.78-.78 2.05 0 2.83L4 21.41c.39.39.9.59 1.41.59.51 0 1.02-.2 1.41-.59l7.78-7.78 2.81-2.81c.8-.78.8-2.07 0-2.86zM5.41 20L4 18.59l7.72-7.72 1.47 1.35L5.41 20z\"/>\n",
              "  </svg>\n",
              "      </button>\n",
              "      \n",
              "  <style>\n",
              "    .colab-df-container {\n",
              "      display:flex;\n",
              "      flex-wrap:wrap;\n",
              "      gap: 12px;\n",
              "    }\n",
              "\n",
              "    .colab-df-convert {\n",
              "      background-color: #E8F0FE;\n",
              "      border: none;\n",
              "      border-radius: 50%;\n",
              "      cursor: pointer;\n",
              "      display: none;\n",
              "      fill: #1967D2;\n",
              "      height: 32px;\n",
              "      padding: 0 0 0 0;\n",
              "      width: 32px;\n",
              "    }\n",
              "\n",
              "    .colab-df-convert:hover {\n",
              "      background-color: #E2EBFA;\n",
              "      box-shadow: 0px 1px 2px rgba(60, 64, 67, 0.3), 0px 1px 3px 1px rgba(60, 64, 67, 0.15);\n",
              "      fill: #174EA6;\n",
              "    }\n",
              "\n",
              "    [theme=dark] .colab-df-convert {\n",
              "      background-color: #3B4455;\n",
              "      fill: #D2E3FC;\n",
              "    }\n",
              "\n",
              "    [theme=dark] .colab-df-convert:hover {\n",
              "      background-color: #434B5C;\n",
              "      box-shadow: 0px 1px 3px 1px rgba(0, 0, 0, 0.15);\n",
              "      filter: drop-shadow(0px 1px 2px rgba(0, 0, 0, 0.3));\n",
              "      fill: #FFFFFF;\n",
              "    }\n",
              "  </style>\n",
              "\n",
              "      <script>\n",
              "        const buttonEl =\n",
              "          document.querySelector('#df-ef1a8755-d06c-421b-965f-9ab961913026 button.colab-df-convert');\n",
              "        buttonEl.style.display =\n",
              "          google.colab.kernel.accessAllowed ? 'block' : 'none';\n",
              "\n",
              "        async function convertToInteractive(key) {\n",
              "          const element = document.querySelector('#df-ef1a8755-d06c-421b-965f-9ab961913026');\n",
              "          const dataTable =\n",
              "            await google.colab.kernel.invokeFunction('convertToInteractive',\n",
              "                                                     [key], {});\n",
              "          if (!dataTable) return;\n",
              "\n",
              "          const docLinkHtml = 'Like what you see? Visit the ' +\n",
              "            '<a target=\"_blank\" href=https://colab.research.google.com/notebooks/data_table.ipynb>data table notebook</a>'\n",
              "            + ' to learn more about interactive tables.';\n",
              "          element.innerHTML = '';\n",
              "          dataTable['output_type'] = 'display_data';\n",
              "          await google.colab.output.renderOutput(dataTable, element);\n",
              "          const docLink = document.createElement('div');\n",
              "          docLink.innerHTML = docLinkHtml;\n",
              "          element.appendChild(docLink);\n",
              "        }\n",
              "      </script>\n",
              "    </div>\n",
              "  </div>\n",
              "  "
            ]
          },
          "metadata": {},
          "execution_count": 76
        }
      ]
    },
    {
      "cell_type": "code",
      "execution_count": 13,
      "metadata": {
        "id": "OXpSGHDND7rs"
      },
      "outputs": [],
      "source": [
        "def getFea(df,num):\n",
        "  data = df[df['r']>=num][df['r']<num+1.0]\n",
        "  return data"
      ]
    },
    {
      "cell_type": "code",
      "source": [
        "def g(df):\n",
        "  return df[df['r']<0.0]"
      ],
      "metadata": {
        "id": "48eO4xvLgCCs"
      },
      "execution_count": 63,
      "outputs": []
    },
    {
      "cell_type": "code",
      "execution_count": 69,
      "metadata": {
        "colab": {
          "base_uri": "https://localhost:8080/"
        },
        "id": "cnDOYMwJKzs_",
        "outputId": "001e92f7-969d-41d8-fc8e-914b23a6c615"
      },
      "outputs": [
        {
          "output_type": "stream",
          "name": "stderr",
          "text": [
            "<ipython-input-13-5d16ba0e03be>:2: UserWarning: Boolean Series key will be reindexed to match DataFrame index.\n",
            "  data = df[df['r']>=num][df['r']<num+1.0]\n"
          ]
        },
        {
          "output_type": "stream",
          "name": "stdout",
          "text": [
            "34.0 999.0\n",
            "100.0 2996.0\n",
            "34.0 34.0\n",
            "100.0 100.0 100.0\n"
          ]
        }
      ],
      "source": [
        "fd=getFea(df,1.0)\n",
        "# fd=g(df)\n",
        "a=sorted(fd['s'].unique())\n",
        "print(a[0],a[-1])\n",
        "c=sorted(fd['k'].unique())\n",
        "print(c[0],c[-1])\n",
        "previous = a[0]\n",
        "b=np.arange(a[0],a[-1]+1.0,1.0)\n",
        "for i in range(len(a)):\n",
        "  for h in range(len(b)):\n",
        "    if i == h:\n",
        "      if i != 0:\n",
        "        previous = a[i-1]\n",
        "      if a[i] != previous + 1:\n",
        "        print(a[i],previous)\n",
        "previous = c[0]\n",
        "d=np.arange(c[0],c[-1]+1.0,1.0)\n",
        "for e in range(len(c)):\n",
        "  for t in range(len(d)):\n",
        "    if e == t:\n",
        "      if e != 0:\n",
        "        previous = c[e-1]\n",
        "      if previous + 1 != c[e]:\n",
        "        print(c[e],d[t],previous)"
      ]
    },
    {
      "cell_type": "code",
      "execution_count": 75,
      "metadata": {
        "id": "xbzD9APPNP7l"
      },
      "outputs": [],
      "source": [
        "# 485 hist mo 35"
      ]
    }
  ],
  "metadata": {
    "colab": {
      "provenance": []
    },
    "kernelspec": {
      "display_name": "Python 3",
      "name": "python3"
    },
    "language_info": {
      "name": "python"
    }
  },
  "nbformat": 4,
  "nbformat_minor": 0
}