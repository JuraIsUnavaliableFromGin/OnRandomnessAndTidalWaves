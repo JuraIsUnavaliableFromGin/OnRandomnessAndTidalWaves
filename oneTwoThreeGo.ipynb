{
 "cells": [
  {
   "cell_type": "code",
   "execution_count": 1,
   "id": "8328df7d",
   "metadata": {},
   "outputs": [],
   "source": [
    "import os\n",
    "import sys\n",
    "import sklearn as sk\n",
    "from sklearn.preprocessing import MinMaxScaler\n",
    "import matplotlib.pyplot as plt\n",
    "import numpy as np\n",
    "import pandas as pd\n",
    "from sklearn.metrics import r2_score\n",
    "from sklearn.metrics import mean_squared_error\n",
    "from sklearn.model_selection import train_test_split\n",
    "from sklearn.preprocessing import StandardScaler"
   ]
  },
  {
   "cell_type": "code",
   "execution_count": 2,
   "id": "67771e68",
   "metadata": {},
   "outputs": [],
   "source": [
    "pd.set_option('display.max_rows', 100000)\n",
    "pd.set_option('display.max_columns', 100)\n",
    "pd.set_option('display.width', 10)\n",
    "np.set_printoptions(threshold=sys.maxsize)"
   ]
  },
  {
   "cell_type": "code",
   "execution_count": 3,
   "id": "36e421ba",
   "metadata": {},
   "outputs": [],
   "source": [
    "data = pd.read_csv(\n",
    "    \"job.csv\", \n",
    "    header=0, infer_datetime_format=True,\n",
    "    parse_dates=['date'], index_col=['date']\n",
    ").iloc[:,1:]"
   ]
  },
  {
   "cell_type": "code",
   "execution_count": 4,
   "id": "393819a0",
   "metadata": {},
   "outputs": [],
   "source": [
    "new = data.iloc[3:,:]"
   ]
  },
  {
   "cell_type": "code",
   "execution_count": 5,
   "id": "a41e9388",
   "metadata": {},
   "outputs": [],
   "source": [
    "x = np.array(new.iloc[:,7:])\n",
    "y = np.array(new.iloc[:,:7])"
   ]
  },
  {
   "cell_type": "code",
   "execution_count": 6,
   "id": "18fe20cb",
   "metadata": {},
   "outputs": [],
   "source": [
    "x_train,x_test,y_train,y_test = train_test_split(x,y,test_size=0.3,random_state=101)"
   ]
  },
  {
   "cell_type": "code",
   "execution_count": 7,
   "id": "51db8db6",
   "metadata": {},
   "outputs": [],
   "source": [
    "from sklearn.linear_model import LinearRegression"
   ]
  },
  {
   "cell_type": "code",
   "execution_count": 78,
   "id": "1986aa51",
   "metadata": {},
   "outputs": [],
   "source": [
    "lmodel = LinearRegression()"
   ]
  },
  {
   "cell_type": "code",
   "execution_count": 79,
   "id": "41a131d7",
   "metadata": {
    "scrolled": true
   },
   "outputs": [
    {
     "data": {
      "text/html": [
       "<style>#sk-container-id-3 {color: black;background-color: white;}#sk-container-id-3 pre{padding: 0;}#sk-container-id-3 div.sk-toggleable {background-color: white;}#sk-container-id-3 label.sk-toggleable__label {cursor: pointer;display: block;width: 100%;margin-bottom: 0;padding: 0.3em;box-sizing: border-box;text-align: center;}#sk-container-id-3 label.sk-toggleable__label-arrow:before {content: \"▸\";float: left;margin-right: 0.25em;color: #696969;}#sk-container-id-3 label.sk-toggleable__label-arrow:hover:before {color: black;}#sk-container-id-3 div.sk-estimator:hover label.sk-toggleable__label-arrow:before {color: black;}#sk-container-id-3 div.sk-toggleable__content {max-height: 0;max-width: 0;overflow: hidden;text-align: left;background-color: #f0f8ff;}#sk-container-id-3 div.sk-toggleable__content pre {margin: 0.2em;color: black;border-radius: 0.25em;background-color: #f0f8ff;}#sk-container-id-3 input.sk-toggleable__control:checked~div.sk-toggleable__content {max-height: 200px;max-width: 100%;overflow: auto;}#sk-container-id-3 input.sk-toggleable__control:checked~label.sk-toggleable__label-arrow:before {content: \"▾\";}#sk-container-id-3 div.sk-estimator input.sk-toggleable__control:checked~label.sk-toggleable__label {background-color: #d4ebff;}#sk-container-id-3 div.sk-label input.sk-toggleable__control:checked~label.sk-toggleable__label {background-color: #d4ebff;}#sk-container-id-3 input.sk-hidden--visually {border: 0;clip: rect(1px 1px 1px 1px);clip: rect(1px, 1px, 1px, 1px);height: 1px;margin: -1px;overflow: hidden;padding: 0;position: absolute;width: 1px;}#sk-container-id-3 div.sk-estimator {font-family: monospace;background-color: #f0f8ff;border: 1px dotted black;border-radius: 0.25em;box-sizing: border-box;margin-bottom: 0.5em;}#sk-container-id-3 div.sk-estimator:hover {background-color: #d4ebff;}#sk-container-id-3 div.sk-parallel-item::after {content: \"\";width: 100%;border-bottom: 1px solid gray;flex-grow: 1;}#sk-container-id-3 div.sk-label:hover label.sk-toggleable__label {background-color: #d4ebff;}#sk-container-id-3 div.sk-serial::before {content: \"\";position: absolute;border-left: 1px solid gray;box-sizing: border-box;top: 0;bottom: 0;left: 50%;z-index: 0;}#sk-container-id-3 div.sk-serial {display: flex;flex-direction: column;align-items: center;background-color: white;padding-right: 0.2em;padding-left: 0.2em;position: relative;}#sk-container-id-3 div.sk-item {position: relative;z-index: 1;}#sk-container-id-3 div.sk-parallel {display: flex;align-items: stretch;justify-content: center;background-color: white;position: relative;}#sk-container-id-3 div.sk-item::before, #sk-container-id-3 div.sk-parallel-item::before {content: \"\";position: absolute;border-left: 1px solid gray;box-sizing: border-box;top: 0;bottom: 0;left: 50%;z-index: -1;}#sk-container-id-3 div.sk-parallel-item {display: flex;flex-direction: column;z-index: 1;position: relative;background-color: white;}#sk-container-id-3 div.sk-parallel-item:first-child::after {align-self: flex-end;width: 50%;}#sk-container-id-3 div.sk-parallel-item:last-child::after {align-self: flex-start;width: 50%;}#sk-container-id-3 div.sk-parallel-item:only-child::after {width: 0;}#sk-container-id-3 div.sk-dashed-wrapped {border: 1px dashed gray;margin: 0 0.4em 0.5em 0.4em;box-sizing: border-box;padding-bottom: 0.4em;background-color: white;}#sk-container-id-3 div.sk-label label {font-family: monospace;font-weight: bold;display: inline-block;line-height: 1.2em;}#sk-container-id-3 div.sk-label-container {text-align: center;}#sk-container-id-3 div.sk-container {/* jupyter's `normalize.less` sets `[hidden] { display: none; }` but bootstrap.min.css set `[hidden] { display: none !important; }` so we also need the `!important` here to be able to override the default hidden behavior on the sphinx rendered scikit-learn.org. See: https://github.com/scikit-learn/scikit-learn/issues/21755 */display: inline-block !important;position: relative;}#sk-container-id-3 div.sk-text-repr-fallback {display: none;}</style><div id=\"sk-container-id-3\" class=\"sk-top-container\"><div class=\"sk-text-repr-fallback\"><pre>LinearRegression()</pre><b>In a Jupyter environment, please rerun this cell to show the HTML representation or trust the notebook. <br />On GitHub, the HTML representation is unable to render, please try loading this page with nbviewer.org.</b></div><div class=\"sk-container\" hidden><div class=\"sk-item\"><div class=\"sk-estimator sk-toggleable\"><input class=\"sk-toggleable__control sk-hidden--visually\" id=\"sk-estimator-id-3\" type=\"checkbox\" checked><label for=\"sk-estimator-id-3\" class=\"sk-toggleable__label sk-toggleable__label-arrow\">LinearRegression</label><div class=\"sk-toggleable__content\"><pre>LinearRegression()</pre></div></div></div></div></div>"
      ],
      "text/plain": [
       "LinearRegression()"
      ]
     },
     "execution_count": 79,
     "metadata": {},
     "output_type": "execute_result"
    }
   ],
   "source": [
    "lmodel.fit(x_train,y_train)"
   ]
  },
  {
   "cell_type": "code",
   "execution_count": 80,
   "id": "eaf12866",
   "metadata": {},
   "outputs": [
    {
     "data": {
      "text/plain": [
       "array([[ 3.55078125,  9.46875   , 17.375     , 25.53125   , 33.7578125 ,\n",
       "        41.79296875, 25.8125    ],\n",
       "       [ 4.875     , 12.0625    , 21.25      , 30.0078125 , 38.8671875 ,\n",
       "        46.0625    , 22.8125    ],\n",
       "       [ 3.8984375 ,  9.625     , 18.25      , 27.6015625 , 37.7109375 ,\n",
       "        45.8515625 , 24.1875    ]])"
      ]
     },
     "execution_count": 80,
     "metadata": {},
     "output_type": "execute_result"
    }
   ],
   "source": [
    "yl_pred = lmodel.predict(x_test);yl_pred[:3]"
   ]
  },
  {
   "cell_type": "code",
   "execution_count": 81,
   "id": "cffbefd6",
   "metadata": {},
   "outputs": [],
   "source": [
    "def youspinmerightroundbabyrightround(y_pred,y_test):\n",
    "    for i in range(len(y_pred)):\n",
    "        for h in range(len(y_pred[i])):\n",
    "            y_pred[i][h] = round(y_pred[i][h])\n",
    "    print(y_pred[:3])\n",
    "    print(\"+++++++++++++++++++++++++++++++++\")\n",
    "    print(np.array(y_test[:3]))\n",
    "    return y_pred"
   ]
  },
  {
   "cell_type": "code",
   "execution_count": 82,
   "id": "08d15382",
   "metadata": {},
   "outputs": [],
   "source": [
    "def boringestimation(y_test,y_pred):\n",
    "    s = r2_score(y_test,y_pred)\n",
    "    m = mean_squared_error(y_test,y_pred)\n",
    "    n = np.sqrt(mean_squared_error(y_test,y_pred))\n",
    "    print(\"r2:\",s,\";mean sqrt err:\",m,\";root mean sqrt err:\",n)\n",
    "#     return (s,m,n)"
   ]
  },
  {
   "cell_type": "code",
   "execution_count": 83,
   "id": "eb77d251",
   "metadata": {},
   "outputs": [
    {
     "name": "stdout",
     "output_type": "stream",
     "text": [
      "r2: 0.5759237659473607 ;mean sqrt err: 43.15257227572558 ;root mean sqrt err: 6.569061750031398\n"
     ]
    }
   ],
   "source": [
    "boringestimation(y_test,yl_pred)"
   ]
  },
  {
   "cell_type": "code",
   "execution_count": 84,
   "id": "90c7524b",
   "metadata": {},
   "outputs": [
    {
     "name": "stdout",
     "output_type": "stream",
     "text": [
      "[[ 4.  9. 17. 26. 34. 42. 26.]\n",
      " [ 5. 12. 21. 30. 39. 46. 23.]\n",
      " [ 4. 10. 18. 28. 38. 46. 24.]]\n",
      "+++++++++++++++++++++++++++++++++\n",
      "[[ 6  9 17 25 33 42 27]\n",
      " [ 3  6 23 24 42 44 35]\n",
      " [ 2  5 18 21 42 48 46]]\n"
     ]
    }
   ],
   "source": [
    "yl_pred = youspinmerightroundbabyrightround(yl_pred,y_test)"
   ]
  },
  {
   "cell_type": "code",
   "execution_count": 89,
   "id": "88df199c",
   "metadata": {},
   "outputs": [
    {
     "data": {
      "text/plain": [
       "array([[13.671875 , 22.9375   , 30.25     , 35.0390625, 38.7109375,\n",
       "        43.8828125, 22.4375   ]])"
      ]
     },
     "execution_count": 89,
     "metadata": {},
     "output_type": "execute_result"
    }
   ],
   "source": [
    "lmodel.predict(np.array([1,5,0,1,2,2,1]).reshape(1, -1))"
   ]
  },
  {
   "cell_type": "code",
   "execution_count": 41,
   "id": "9a8f28fb",
   "metadata": {},
   "outputs": [
    {
     "name": "stdout",
     "output_type": "stream",
     "text": [
      "1.13.1\n"
     ]
    }
   ],
   "source": [
    "import torch\n",
    "torch.manual_seed(42)\n",
    "import torch.nn as nn\n",
    "import torch.optim as optim\n",
    "print(torch.__version__)"
   ]
  },
  {
   "cell_type": "code",
   "execution_count": 16,
   "id": "bd47e002",
   "metadata": {},
   "outputs": [],
   "source": [
    "def arr2f(data):\n",
    "    for i in range(len(data)):\n",
    "        for j in range(len(data[i])):\n",
    "            data[i][j] = float(data[i][j])\n",
    "    return data"
   ]
  },
  {
   "cell_type": "code",
   "execution_count": 17,
   "id": "9f515ef9",
   "metadata": {},
   "outputs": [],
   "source": [
    "makeup = np.array(new.iloc[:1414,7:]).tolist()"
   ]
  },
  {
   "cell_type": "code",
   "execution_count": 42,
   "id": "fb634815",
   "metadata": {},
   "outputs": [],
   "source": [
    "model = nn.Sequential(\n",
    "    nn.Linear(7, 14),\n",
    "    nn.ReLU(),\n",
    "    nn.Linear(14, 28),\n",
    "    nn.LeakyReLU(),\n",
    "    nn.Linear(28, 56),\n",
    "    nn.ReLU(),\n",
    "    nn.Linear(56, 28),\n",
    "    nn.LeakyReLU(),\n",
    "    nn.Linear(28, 14),\n",
    "    nn.Softmax(),\n",
    "    nn.Linear(14, 7)\n",
    ")"
   ]
  },
  {
   "cell_type": "code",
   "execution_count": 43,
   "id": "0311017c",
   "metadata": {},
   "outputs": [],
   "source": [
    "loss_fn = nn.MSELoss()  # mean square error\n",
    "optimizer = optim.Adam(model.parameters(), lr=0.0001)"
   ]
  },
  {
   "cell_type": "code",
   "execution_count": 44,
   "id": "96ca9bd7",
   "metadata": {},
   "outputs": [],
   "source": [
    "import tqdm\n",
    "scaler = StandardScaler()\n",
    "scaler.fit(x_train)\n",
    "X_train = scaler.transform(x_train)\n",
    "X_test = scaler.transform(x_test)"
   ]
  },
  {
   "cell_type": "code",
   "execution_count": 45,
   "id": "b9002406",
   "metadata": {},
   "outputs": [],
   "source": [
    "X_train = torch.tensor(X_train, dtype=torch.float32)\n",
    "Y_train = torch.tensor(y_train, dtype=torch.float32)\n",
    "X_test = torch.tensor(X_test, dtype=torch.float32)\n",
    "Y_test = torch.tensor(y_test, dtype=torch.float32)"
   ]
  },
  {
   "cell_type": "code",
   "execution_count": 54,
   "id": "07479c76",
   "metadata": {},
   "outputs": [],
   "source": [
    "n_epochs = 1000   # number of epochs to run\n",
    "batch_size = 10  # size of each batch\n",
    "batch_start = torch.arange(0, len(X_train), batch_size)"
   ]
  },
  {
   "cell_type": "code",
   "execution_count": 55,
   "id": "be049959",
   "metadata": {},
   "outputs": [],
   "source": [
    "best_mse = np.inf   # init to infinity\n",
    "best_weights = None\n",
    "history = []\n",
    "import copy"
   ]
  },
  {
   "cell_type": "code",
   "execution_count": 56,
   "id": "691cda29",
   "metadata": {
    "scrolled": true
   },
   "outputs": [
    {
     "data": {
      "text/plain": [
       "<All keys matched successfully>"
      ]
     },
     "execution_count": 56,
     "metadata": {},
     "output_type": "execute_result"
    }
   ],
   "source": [
    "# c = 0\n",
    "for epoch in range(n_epochs):\n",
    "    model.train()\n",
    "    with tqdm.tqdm(batch_start, unit=\"batch\", mininterval=0, disable=True) as bar:\n",
    "        bar.set_description(f\"Epoch {epoch}\")\n",
    "        for start in bar:\n",
    "            # take a batch\n",
    "            X_batch = X_train[start:start+batch_size]\n",
    "            Y_batch = Y_train[start:start+batch_size]\n",
    "            # forward pass\n",
    "            y_pred = model(X_batch)\n",
    "            loss = loss_fn(y_pred, Y_batch)\n",
    "#             print(c)\n",
    "#             print(\"y_pred\")\n",
    "#             print(y_pred)\n",
    "#             print(\"loss\")\n",
    "#             print(loss)\n",
    "            # backward pass\n",
    "            optimizer.zero_grad()\n",
    "            loss.backward()\n",
    "            # update weights\n",
    "            optimizer.step()\n",
    "            # print progress\n",
    "            bar.set_postfix(mse=float(loss))\n",
    "#             c+=1\n",
    "    # evaluate accuracy at end of each epoch\n",
    "#     print(\"@@@@@@@@@@@@@@@@@@@@@@@@@\")\n",
    "    model.eval()\n",
    "    y_pred = model(X_test)\n",
    "    mse = loss_fn(y_pred, Y_test)\n",
    "    mse = float(mse)\n",
    "#     print(mse)\n",
    "#     print(best_mse)\n",
    "#     print(y_pred)\n",
    "    history.append(mse)\n",
    "    if mse < best_mse:\n",
    "        best_mse = mse\n",
    "        best_weights = copy.deepcopy(model.state_dict())\n",
    "model.load_state_dict(best_weights)"
   ]
  },
  {
   "cell_type": "code",
   "execution_count": 57,
   "id": "b89dff53",
   "metadata": {
    "scrolled": false
   },
   "outputs": [
    {
     "name": "stdout",
     "output_type": "stream",
     "text": [
      "MSE: 97.67\n",
      "RMSE: 9.88\n"
     ]
    },
    {
     "data": {
      "image/png": "[encoded data removed]",
      "text/plain": [
       "<Figure size 640x480 with 1 Axes>"
      ]
     },
     "metadata": {},
     "output_type": "display_data"
    }
   ],
   "source": [
    "print(\"MSE: %.2f\" % best_mse)\n",
    "print(\"RMSE: %.2f\" % np.sqrt(best_mse))\n",
    "plt.plot(history)\n",
    "plt.show()"
   ]
  },
  {
   "cell_type": "code",
   "execution_count": 58,
   "id": "285cd526",
   "metadata": {
    "scrolled": true
   },
   "outputs": [
    {
     "data": {
      "text/plain": [
       "tensor([1., 5., 0., 1., 2., 2., 1.])"
      ]
     },
     "execution_count": 58,
     "metadata": {},
     "output_type": "execute_result"
    }
   ],
   "source": [
    "xtry = torch.tensor(np.array([1,5,0,1,2,2,1]), dtype=torch.float32);xtry"
   ]
  },
  {
   "cell_type": "code",
   "execution_count": 25,
   "id": "8eab9a2e",
   "metadata": {},
   "outputs": [
    {
     "data": {
      "text/plain": [
       "1414"
      ]
     },
     "execution_count": 25,
     "metadata": {},
     "output_type": "execute_result"
    }
   ],
   "source": [
    "len(x_train)"
   ]
  },
  {
   "cell_type": "code",
   "execution_count": 59,
   "id": "20e39e0f",
   "metadata": {},
   "outputs": [],
   "source": [
    "x_tt = scaler.transform(xtry.reshape(1,-1))"
   ]
  },
  {
   "cell_type": "code",
   "execution_count": 60,
   "id": "8a274b89",
   "metadata": {},
   "outputs": [],
   "source": [
    "x_ttt = torch.tensor(x_tt, dtype=torch.float32)"
   ]
  },
  {
   "cell_type": "code",
   "execution_count": 61,
   "id": "eeef4ab6",
   "metadata": {},
   "outputs": [
    {
     "name": "stdout",
     "output_type": "stream",
     "text": [
      "97.6737289428711\n",
      "97.6737289428711\n",
      "tensor([[ 7.1189, 13.9384, 21.2779, 27.7685, 30.7699, 31.1843, 24.0592]],\n",
      "       grad_fn=<AddmmBackward0>)\n"
     ]
    },
    {
     "name": "stderr",
     "output_type": "stream",
     "text": [
      "/usr/local/lib/python3.10/site-packages/torch/nn/modules/container.py:204: UserWarning: Implicit dimension choice for softmax has been deprecated. Change the call to include dim=X as an argument.\n",
      "  input = module(input)\n",
      "/usr/local/lib/python3.10/site-packages/torch/nn/modules/loss.py:536: UserWarning: Using a target size (torch.Size([606, 7])) that is different to the input size (torch.Size([1, 7])). This will likely lead to incorrect results due to broadcasting. Please ensure they have the same size.\n",
      "  return F.mse_loss(input, target, reduction=self.reduction)\n"
     ]
    }
   ],
   "source": [
    "y_pred = model(x_ttt)\n",
    "mse = loss_fn(y_pred, Y_test)\n",
    "mse = float(mse)\n",
    "print(mse)\n",
    "print(best_mse)\n",
    "print(y_pred)"
   ]
  },
  {
   "cell_type": "code",
   "execution_count": null,
   "id": "2d426af6",
   "metadata": {},
   "outputs": [],
   "source": []
  },
  {
   "cell_type": "code",
   "execution_count": null,
   "id": "26c3e8eb",
   "metadata": {},
   "outputs": [],
   "source": []
  },
  {
   "cell_type": "code",
   "execution_count": null,
   "id": "e88839a3",
   "metadata": {},
   "outputs": [],
   "source": []
  },
  {
   "cell_type": "code",
   "execution_count": null,
   "id": "33f1e1f6",
   "metadata": {},
   "outputs": [],
   "source": []
  }
 ],
 "metadata": {
  "kernelspec": {
   "display_name": "Python 3 (ipykernel)",
   "language": "python",
   "name": "python3"
  },
  "language_info": {
   "codemirror_mode": {
    "name": "ipython",
    "version": 3
   },
   "file_extension": ".py",
   "mimetype": "text/x-python",
   "name": "python",
   "nbconvert_exporter": "python",
   "pygments_lexer": "ipython3",
   "version": "3.10.9"
  },
  "vscode": {
   "interpreter": {
    "hash": "31f2aee4e71d21fbe5cf8b01ff0e069b9275f58929596ceb00d14d90e3e16cd6"
   }
  }
 },
 "nbformat": 4,
 "nbformat_minor": 5
}
