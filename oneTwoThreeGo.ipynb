{
 "cells": [
  {
   "cell_type": "code",
   "execution_count": null,
   "id": "8328df7d",
   "metadata": {},
   "outputs": [],
   "source": [
    "import os\n",
    "import sys\n",
    "import sklearn as sk\n",
    "from sklearn.preprocessing import MinMaxScaler\n",
    "import matplotlib.pyplot as plt\n",
    "import numpy as np\n",
    "import pandas as pd\n",
    "from sklearn.metrics import r2_score\n",
    "from sklearn.metrics import mean_squared_error\n",
    "from sklearn.model_selection import train_test_split\n",
    "from sklearn.preprocessing import StandardScaler"
   ]
  },
  {
   "cell_type": "code",
   "execution_count": null,
   "id": "67771e68",
   "metadata": {},
   "outputs": [],
   "source": [
    "pd.set_option('display.max_rows', 100000)\n",
    "pd.set_option('display.max_columns', 100)\n",
    "pd.set_option('display.width', 10)\n",
    "np.set_printoptions(threshold=sys.maxsize)"
   ]
  },
  {
   "cell_type": "code",
   "execution_count": null,
   "id": "36e421ba",
   "metadata": {},
   "outputs": [],
   "source": [
    "data = pd.read_csv(\n",
    "    \"job.csv\", \n",
    "    header=0, infer_datetime_format=True,\n",
    "    parse_dates=['date'], index_col=['date']\n",
    ").iloc[:,1:]"
   ]
  },
  {
   "cell_type": "code",
   "execution_count": null,
   "id": "393819a0",
   "metadata": {},
   "outputs": [],
   "source": [
    "new = data.iloc[3:,:]"
   ]
  },
  {
   "cell_type": "code",
   "execution_count": null,
   "id": "a41e9388",
   "metadata": {},
   "outputs": [],
   "source": [
    "x = np.array(new.iloc[:,7:])\n",
    "y = np.array(new.iloc[:,:7])"
   ]
  },
  {
   "cell_type": "code",
   "execution_count": null,
   "id": "18fe20cb",
   "metadata": {},
   "outputs": [],
   "source": [
    "x_train,x_test,y_train,y_test = train_test_split(x,y,test_size=0.3,random_state=101)"
   ]
  },
  {
   "cell_type": "code",
   "execution_count": null,
   "id": "51db8db6",
   "metadata": {},
   "outputs": [],
   "source": [
    "from sklearn.linear_model import LinearRegression"
   ]
  },
  {
   "cell_type": "code",
   "execution_count": null,
   "id": "1986aa51",
   "metadata": {},
   "outputs": [],
   "source": [
    "lmodel = LinearRegression()"
   ]
  },
  {
   "cell_type": "code",
   "execution_count": null,
   "id": "41a131d7",
   "metadata": {
    "scrolled": true
   },
   "outputs": [],
   "source": [
    "lmodel.fit(x_train,y_train)"
   ]
  },
  {
   "cell_type": "code",
   "execution_count": null,
   "id": "eaf12866",
   "metadata": {},
   "outputs": [],
   "source": [
    "yl_pred = lmodel.predict(x_test);yl_pred[:3]"
   ]
  },
  {
   "cell_type": "code",
   "execution_count": null,
   "id": "cffbefd6",
   "metadata": {},
   "outputs": [],
   "source": [
    "def youspinmerightroundbabyrightround(y_pred,y_test):\n",
    "    for i in range(len(y_pred)):\n",
    "        for h in range(len(y_pred[i])):\n",
    "            y_pred[i][h] = round(y_pred[i][h])\n",
    "    print(y_pred[:3])\n",
    "    print(\"+++++++++++++++++++++++++++++++++\")\n",
    "    print(np.array(y_test[:3]))\n",
    "    return y_pred"
   ]
  },
  {
   "cell_type": "code",
   "execution_count": null,
   "id": "08d15382",
   "metadata": {},
   "outputs": [],
   "source": [
    "def boringestimation(y_test,y_pred):\n",
    "    s = r2_score(y_test,y_pred)\n",
    "    m = mean_squared_error(y_test,y_pred)\n",
    "    n = np.sqrt(mean_squared_error(y_test,y_pred))\n",
    "    print(\"r2:\",s,\";mean sqrt err:\",m,\";root mean sqrt err:\",n)\n",
    "#     return (s,m,n)"
   ]
  },
  {
   "cell_type": "code",
   "execution_count": null,
   "id": "eb77d251",
   "metadata": {},
   "outputs": [],
   "source": [
    "boringestimation(y_test,yl_pred)"
   ]
  },
  {
   "cell_type": "code",
   "execution_count": null,
   "id": "90c7524b",
   "metadata": {},
   "outputs": [],
   "source": [
    "yl_pred = youspinmerightroundbabyrightround(yl_pred,y_test)"
   ]
  },
  {
   "cell_type": "code",
   "execution_count": null,
   "id": "88df199c",
   "metadata": {},
   "outputs": [],
   "source": [
    "lmodel.predict(np.array([1,5,0,1,2,2,1]).reshape(1, -1))"
   ]
  },
  {
   "cell_type": "code",
   "execution_count": null,
   "id": "9a8f28fb",
   "metadata": {},
   "outputs": [],
   "source": [
    "import torch\n",
    "torch.manual_seed(42)\n",
    "import torch.nn as nn\n",
    "import torch.optim as optim\n",
    "print(torch.__version__)"
   ]
  },
  {
   "cell_type": "code",
   "execution_count": null,
   "id": "bd47e002",
   "metadata": {},
   "outputs": [],
   "source": [
    "def arr2f(data):\n",
    "    for i in range(len(data)):\n",
    "        for j in range(len(data[i])):\n",
    "            data[i][j] = float(data[i][j])\n",
    "    return data"
   ]
  },
  {
   "cell_type": "code",
   "execution_count": null,
   "id": "9f515ef9",
   "metadata": {},
   "outputs": [],
   "source": [
    "makeup = np.array(new.iloc[:1414,7:]).tolist()"
   ]
  },
  {
   "cell_type": "code",
   "execution_count": null,
   "id": "fb634815",
   "metadata": {},
   "outputs": [],
   "source": [
    "model = nn.Sequential(\n",
    "    nn.Linear(7, 14),\n",
    "    nn.ReLU(),\n",
    "    nn.Linear(14, 28),\n",
    "    nn.LeakyReLU(),\n",
    "    nn.Linear(28, 56),\n",
    "    nn.ReLU(),\n",
    "    nn.Linear(56, 28),\n",
    "    nn.LeakyReLU(),\n",
    "    nn.Linear(28, 14),\n",
    "    nn.Softmax(),\n",
    "    nn.Linear(14, 7)\n",
    ")"
   ]
  },
  {
   "cell_type": "code",
   "execution_count": null,
   "id": "0311017c",
   "metadata": {},
   "outputs": [],
   "source": [
    "loss_fn = nn.MSELoss()  # mean square error\n",
    "optimizer = optim.Adam(model.parameters(), lr=0.0001)"
   ]
  },
  {
   "cell_type": "code",
   "execution_count": null,
   "id": "96ca9bd7",
   "metadata": {},
   "outputs": [],
   "source": [
    "import tqdm\n",
    "scaler = StandardScaler()\n",
    "scaler.fit(x_train)\n",
    "X_train = scaler.transform(x_train)\n",
    "X_test = scaler.transform(x_test)"
   ]
  },
  {
   "cell_type": "code",
   "execution_count": null,
   "id": "b9002406",
   "metadata": {},
   "outputs": [],
   "source": [
    "X_train = torch.tensor(X_train, dtype=torch.float32)\n",
    "Y_train = torch.tensor(y_train, dtype=torch.float32)\n",
    "X_test = torch.tensor(X_test, dtype=torch.float32)\n",
    "Y_test = torch.tensor(y_test, dtype=torch.float32)"
   ]
  },
  {
   "cell_type": "code",
   "execution_count": null,
   "id": "07479c76",
   "metadata": {},
   "outputs": [],
   "source": [
    "n_epochs = 1000   # number of epochs to run\n",
    "batch_size = 10  # size of each batch\n",
    "batch_start = torch.arange(0, len(X_train), batch_size)"
   ]
  },
  {
   "cell_type": "code",
   "execution_count": null,
   "id": "be049959",
   "metadata": {},
   "outputs": [],
   "source": [
    "best_mse = np.inf   # init to infinity\n",
    "best_weights = None\n",
    "history = []\n",
    "import copy"
   ]
  },
  {
   "cell_type": "code",
   "execution_count": null,
   "id": "691cda29",
   "metadata": {
    "scrolled": true
   },
   "outputs": [],
   "source": [
    "# c = 0\n",
    "for epoch in range(n_epochs):\n",
    "    model.train()\n",
    "    with tqdm.tqdm(batch_start, unit=\"batch\", mininterval=0, disable=True) as bar:\n",
    "        bar.set_description(f\"Epoch {epoch}\")\n",
    "        for start in bar:\n",
    "            # take a batch\n",
    "            X_batch = X_train[start:start+batch_size]\n",
    "            Y_batch = Y_train[start:start+batch_size]\n",
    "            # forward pass\n",
    "            y_pred = model(X_batch)\n",
    "            loss = loss_fn(y_pred, Y_batch)\n",
    "#             print(c)\n",
    "#             print(\"y_pred\")\n",
    "#             print(y_pred)\n",
    "#             print(\"loss\")\n",
    "#             print(loss)\n",
    "            # backward pass\n",
    "            optimizer.zero_grad()\n",
    "            loss.backward()\n",
    "            # update weights\n",
    "            optimizer.step()\n",
    "            # print progress\n",
    "            bar.set_postfix(mse=float(loss))\n",
    "#             c+=1\n",
    "    # evaluate accuracy at end of each epoch\n",
    "#     print(\"@@@@@@@@@@@@@@@@@@@@@@@@@\")\n",
    "    model.eval()\n",
    "    y_pred = model(X_test)\n",
    "    mse = loss_fn(y_pred, Y_test)\n",
    "    mse = float(mse)\n",
    "#     print(mse)\n",
    "#     print(best_mse)\n",
    "#     print(y_pred)\n",
    "    history.append(mse)\n",
    "    if mse < best_mse:\n",
    "        best_mse = mse\n",
    "        best_weights = copy.deepcopy(model.state_dict())\n",
    "model.load_state_dict(best_weights)"
   ]
  },
  {
   "cell_type": "code",
   "execution_count": null,
   "id": "b89dff53",
   "metadata": {
    "scrolled": false
   },
   "outputs": [],
   "source": [
    "print(\"MSE: %.2f\" % best_mse)\n",
    "print(\"RMSE: %.2f\" % np.sqrt(best_mse))\n",
    "plt.plot(history)\n",
    "plt.show()"
   ]
  },
  {
   "cell_type": "code",
   "execution_count": null,
   "id": "285cd526",
   "metadata": {
    "scrolled": true
   },
   "outputs": [],
   "source": [
    "xtry = torch.tensor(np.array([1,5,0,1,2,2,1]), dtype=torch.float32);xtry"
   ]
  },
  {
   "cell_type": "code",
   "execution_count": null,
   "id": "8eab9a2e",
   "metadata": {},
   "outputs": [],
   "source": [
    "len(x_train)"
   ]
  },
  {
   "cell_type": "code",
   "execution_count": null,
   "id": "20e39e0f",
   "metadata": {},
   "outputs": [],
   "source": [
    "x_tt = scaler.transform(xtry.reshape(1,-1))"
   ]
  },
  {
   "cell_type": "code",
   "execution_count": null,
   "id": "8a274b89",
   "metadata": {},
   "outputs": [],
   "source": [
    "x_ttt = torch.tensor(x_tt, dtype=torch.float32)"
   ]
  },
  {
   "cell_type": "code",
   "execution_count": null,
   "id": "eeef4ab6",
   "metadata": {},
   "outputs": [],
   "source": [
    "y_pred = model(x_ttt)\n",
    "mse = loss_fn(y_pred, Y_test)\n",
    "mse = float(mse)\n",
    "print(mse)\n",
    "print(best_mse)\n",
    "print(y_pred)"
   ]
  },
  {
   "cell_type": "code",
   "execution_count": null,
   "id": "2d426af6",
   "metadata": {},
   "outputs": [],
   "source": []
  },
  {
   "cell_type": "code",
   "execution_count": null,
   "id": "26c3e8eb",
   "metadata": {},
   "outputs": [],
   "source": []
  },
  {
   "cell_type": "code",
   "execution_count": null,
   "id": "e88839a3",
   "metadata": {},
   "outputs": [],
   "source": []
  },
  {
   "cell_type": "code",
   "execution_count": null,
   "id": "33f1e1f6",
   "metadata": {},
   "outputs": [],
   "source": []
  }
 ],
 "metadata": {
  "kernelspec": {
   "display_name": "Python 3 (ipykernel)",
   "language": "python",
   "name": "python3"
  },
  "language_info": {
   "codemirror_mode": {
    "name": "ipython",
    "version": 3
   },
   "file_extension": ".py",
   "mimetype": "text/x-python",
   "name": "python",
   "nbconvert_exporter": "python",
   "pygments_lexer": "ipython3",
   "version": "3.10.9"
  },
  "vscode": {
   "interpreter": {
    "hash": "31f2aee4e71d21fbe5cf8b01ff0e069b9275f58929596ceb00d14d90e3e16cd6"
   }
  }
 },
 "nbformat": 4,
 "nbformat_minor": 5
}
